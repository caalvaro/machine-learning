{
  "nbformat": 4,
  "nbformat_minor": 0,
  "metadata": {
    "colab": {
      "provenance": []
    },
    "kernelspec": {
      "name": "python3",
      "display_name": "Python 3"
    }
  },
  "cells": [
    {
      "cell_type": "markdown",
      "source": [
        "# Objetivo:\n",
        "Neste notebook, iremos explorar as diferentes formas de **validar um modelo de Machine Learning**, ou seja, definir se um modelo realmente é eficiente, evitando tomar essa decisão baseada em algum dado enviesado. Faremos isso usando o seguinte problema:\n",
        "\n",
        "A partir de dados sobre carros a venda, queremos prever se eles serão vendidos ou não.\n",
        "\n",
        "#Dados:\n",
        "Cada linha representa um carro que possui quatro atributos:\n",
        "\n",
        "* **vendido:** 1 se o carro foi vendido, 0 caso não tenha sido vendido.\n",
        "* **idade_do_modelo:** Tempo em anos desde o lançamento do carro\n",
        "* **km_por_ano:** Média de quilômetros que o carro percorreu a cada ano\n",
        "* **preco:** O preço que foi cobrado pelo carro"
      ],
      "metadata": {
        "id": "kixMxEFcnoCG"
      }
    },
    {
      "metadata": {
        "id": "y7ik04NlDZMA",
        "outputId": "d643b2c3-c122-4fbd-bb9c-578093d6198b",
        "colab": {
          "base_uri": "https://localhost:8080/",
          "height": 206
        }
      },
      "cell_type": "code",
      "source": [
        "import pandas as pd\n",
        "\n",
        "uri = \"https://raw.githubusercontent.com/caalvaro/machine-learning/main/Classification%20-%20Cross%20Validation/venda_de_carros.csv\"\n",
        "car_sales = pd.read_csv(uri).drop(columns=[\"Unnamed: 0\"], axis=1)\n",
        "car_sales.head()"
      ],
      "execution_count": 16,
      "outputs": [
        {
          "output_type": "execute_result",
          "data": {
            "text/plain": [
              "       preco  vendido  idade_do_modelo   km_por_ano\n",
              "0   30941.02        1               18  35085.22134\n",
              "1   40557.96        1               20  12622.05362\n",
              "2   89627.50        0               12  11440.79806\n",
              "3   95276.14        0                3  43167.32682\n",
              "4  117384.68        1                4  12770.11290"
            ],
            "text/html": [
              "\n",
              "  <div id=\"df-57a6f883-750e-403f-b2ab-e91f2c3667ae\" class=\"colab-df-container\">\n",
              "    <div>\n",
              "<style scoped>\n",
              "    .dataframe tbody tr th:only-of-type {\n",
              "        vertical-align: middle;\n",
              "    }\n",
              "\n",
              "    .dataframe tbody tr th {\n",
              "        vertical-align: top;\n",
              "    }\n",
              "\n",
              "    .dataframe thead th {\n",
              "        text-align: right;\n",
              "    }\n",
              "</style>\n",
              "<table border=\"1\" class=\"dataframe\">\n",
              "  <thead>\n",
              "    <tr style=\"text-align: right;\">\n",
              "      <th></th>\n",
              "      <th>preco</th>\n",
              "      <th>vendido</th>\n",
              "      <th>idade_do_modelo</th>\n",
              "      <th>km_por_ano</th>\n",
              "    </tr>\n",
              "  </thead>\n",
              "  <tbody>\n",
              "    <tr>\n",
              "      <th>0</th>\n",
              "      <td>30941.02</td>\n",
              "      <td>1</td>\n",
              "      <td>18</td>\n",
              "      <td>35085.22134</td>\n",
              "    </tr>\n",
              "    <tr>\n",
              "      <th>1</th>\n",
              "      <td>40557.96</td>\n",
              "      <td>1</td>\n",
              "      <td>20</td>\n",
              "      <td>12622.05362</td>\n",
              "    </tr>\n",
              "    <tr>\n",
              "      <th>2</th>\n",
              "      <td>89627.50</td>\n",
              "      <td>0</td>\n",
              "      <td>12</td>\n",
              "      <td>11440.79806</td>\n",
              "    </tr>\n",
              "    <tr>\n",
              "      <th>3</th>\n",
              "      <td>95276.14</td>\n",
              "      <td>0</td>\n",
              "      <td>3</td>\n",
              "      <td>43167.32682</td>\n",
              "    </tr>\n",
              "    <tr>\n",
              "      <th>4</th>\n",
              "      <td>117384.68</td>\n",
              "      <td>1</td>\n",
              "      <td>4</td>\n",
              "      <td>12770.11290</td>\n",
              "    </tr>\n",
              "  </tbody>\n",
              "</table>\n",
              "</div>\n",
              "    <div class=\"colab-df-buttons\">\n",
              "\n",
              "  <div class=\"colab-df-container\">\n",
              "    <button class=\"colab-df-convert\" onclick=\"convertToInteractive('df-57a6f883-750e-403f-b2ab-e91f2c3667ae')\"\n",
              "            title=\"Convert this dataframe to an interactive table.\"\n",
              "            style=\"display:none;\">\n",
              "\n",
              "  <svg xmlns=\"http://www.w3.org/2000/svg\" height=\"24px\" viewBox=\"0 -960 960 960\">\n",
              "    <path d=\"M120-120v-720h720v720H120Zm60-500h600v-160H180v160Zm220 220h160v-160H400v160Zm0 220h160v-160H400v160ZM180-400h160v-160H180v160Zm440 0h160v-160H620v160ZM180-180h160v-160H180v160Zm440 0h160v-160H620v160Z\"/>\n",
              "  </svg>\n",
              "    </button>\n",
              "\n",
              "  <style>\n",
              "    .colab-df-container {\n",
              "      display:flex;\n",
              "      gap: 12px;\n",
              "    }\n",
              "\n",
              "    .colab-df-convert {\n",
              "      background-color: #E8F0FE;\n",
              "      border: none;\n",
              "      border-radius: 50%;\n",
              "      cursor: pointer;\n",
              "      display: none;\n",
              "      fill: #1967D2;\n",
              "      height: 32px;\n",
              "      padding: 0 0 0 0;\n",
              "      width: 32px;\n",
              "    }\n",
              "\n",
              "    .colab-df-convert:hover {\n",
              "      background-color: #E2EBFA;\n",
              "      box-shadow: 0px 1px 2px rgba(60, 64, 67, 0.3), 0px 1px 3px 1px rgba(60, 64, 67, 0.15);\n",
              "      fill: #174EA6;\n",
              "    }\n",
              "\n",
              "    .colab-df-buttons div {\n",
              "      margin-bottom: 4px;\n",
              "    }\n",
              "\n",
              "    [theme=dark] .colab-df-convert {\n",
              "      background-color: #3B4455;\n",
              "      fill: #D2E3FC;\n",
              "    }\n",
              "\n",
              "    [theme=dark] .colab-df-convert:hover {\n",
              "      background-color: #434B5C;\n",
              "      box-shadow: 0px 1px 3px 1px rgba(0, 0, 0, 0.15);\n",
              "      filter: drop-shadow(0px 1px 2px rgba(0, 0, 0, 0.3));\n",
              "      fill: #FFFFFF;\n",
              "    }\n",
              "  </style>\n",
              "\n",
              "    <script>\n",
              "      const buttonEl =\n",
              "        document.querySelector('#df-57a6f883-750e-403f-b2ab-e91f2c3667ae button.colab-df-convert');\n",
              "      buttonEl.style.display =\n",
              "        google.colab.kernel.accessAllowed ? 'block' : 'none';\n",
              "\n",
              "      async function convertToInteractive(key) {\n",
              "        const element = document.querySelector('#df-57a6f883-750e-403f-b2ab-e91f2c3667ae');\n",
              "        const dataTable =\n",
              "          await google.colab.kernel.invokeFunction('convertToInteractive',\n",
              "                                                    [key], {});\n",
              "        if (!dataTable) return;\n",
              "\n",
              "        const docLinkHtml = 'Like what you see? Visit the ' +\n",
              "          '<a target=\"_blank\" href=https://colab.research.google.com/notebooks/data_table.ipynb>data table notebook</a>'\n",
              "          + ' to learn more about interactive tables.';\n",
              "        element.innerHTML = '';\n",
              "        dataTable['output_type'] = 'display_data';\n",
              "        await google.colab.output.renderOutput(dataTable, element);\n",
              "        const docLink = document.createElement('div');\n",
              "        docLink.innerHTML = docLinkHtml;\n",
              "        element.appendChild(docLink);\n",
              "      }\n",
              "    </script>\n",
              "  </div>\n",
              "\n",
              "\n",
              "<div id=\"df-41ceba53-6b7f-4cbc-9299-b2204bc25fd5\">\n",
              "  <button class=\"colab-df-quickchart\" onclick=\"quickchart('df-41ceba53-6b7f-4cbc-9299-b2204bc25fd5')\"\n",
              "            title=\"Suggest charts.\"\n",
              "            style=\"display:none;\">\n",
              "\n",
              "<svg xmlns=\"http://www.w3.org/2000/svg\" height=\"24px\"viewBox=\"0 0 24 24\"\n",
              "     width=\"24px\">\n",
              "    <g>\n",
              "        <path d=\"M19 3H5c-1.1 0-2 .9-2 2v14c0 1.1.9 2 2 2h14c1.1 0 2-.9 2-2V5c0-1.1-.9-2-2-2zM9 17H7v-7h2v7zm4 0h-2V7h2v10zm4 0h-2v-4h2v4z\"/>\n",
              "    </g>\n",
              "</svg>\n",
              "  </button>\n",
              "\n",
              "<style>\n",
              "  .colab-df-quickchart {\n",
              "      --bg-color: #E8F0FE;\n",
              "      --fill-color: #1967D2;\n",
              "      --hover-bg-color: #E2EBFA;\n",
              "      --hover-fill-color: #174EA6;\n",
              "      --disabled-fill-color: #AAA;\n",
              "      --disabled-bg-color: #DDD;\n",
              "  }\n",
              "\n",
              "  [theme=dark] .colab-df-quickchart {\n",
              "      --bg-color: #3B4455;\n",
              "      --fill-color: #D2E3FC;\n",
              "      --hover-bg-color: #434B5C;\n",
              "      --hover-fill-color: #FFFFFF;\n",
              "      --disabled-bg-color: #3B4455;\n",
              "      --disabled-fill-color: #666;\n",
              "  }\n",
              "\n",
              "  .colab-df-quickchart {\n",
              "    background-color: var(--bg-color);\n",
              "    border: none;\n",
              "    border-radius: 50%;\n",
              "    cursor: pointer;\n",
              "    display: none;\n",
              "    fill: var(--fill-color);\n",
              "    height: 32px;\n",
              "    padding: 0;\n",
              "    width: 32px;\n",
              "  }\n",
              "\n",
              "  .colab-df-quickchart:hover {\n",
              "    background-color: var(--hover-bg-color);\n",
              "    box-shadow: 0 1px 2px rgba(60, 64, 67, 0.3), 0 1px 3px 1px rgba(60, 64, 67, 0.15);\n",
              "    fill: var(--button-hover-fill-color);\n",
              "  }\n",
              "\n",
              "  .colab-df-quickchart-complete:disabled,\n",
              "  .colab-df-quickchart-complete:disabled:hover {\n",
              "    background-color: var(--disabled-bg-color);\n",
              "    fill: var(--disabled-fill-color);\n",
              "    box-shadow: none;\n",
              "  }\n",
              "\n",
              "  .colab-df-spinner {\n",
              "    border: 2px solid var(--fill-color);\n",
              "    border-color: transparent;\n",
              "    border-bottom-color: var(--fill-color);\n",
              "    animation:\n",
              "      spin 1s steps(1) infinite;\n",
              "  }\n",
              "\n",
              "  @keyframes spin {\n",
              "    0% {\n",
              "      border-color: transparent;\n",
              "      border-bottom-color: var(--fill-color);\n",
              "      border-left-color: var(--fill-color);\n",
              "    }\n",
              "    20% {\n",
              "      border-color: transparent;\n",
              "      border-left-color: var(--fill-color);\n",
              "      border-top-color: var(--fill-color);\n",
              "    }\n",
              "    30% {\n",
              "      border-color: transparent;\n",
              "      border-left-color: var(--fill-color);\n",
              "      border-top-color: var(--fill-color);\n",
              "      border-right-color: var(--fill-color);\n",
              "    }\n",
              "    40% {\n",
              "      border-color: transparent;\n",
              "      border-right-color: var(--fill-color);\n",
              "      border-top-color: var(--fill-color);\n",
              "    }\n",
              "    60% {\n",
              "      border-color: transparent;\n",
              "      border-right-color: var(--fill-color);\n",
              "    }\n",
              "    80% {\n",
              "      border-color: transparent;\n",
              "      border-right-color: var(--fill-color);\n",
              "      border-bottom-color: var(--fill-color);\n",
              "    }\n",
              "    90% {\n",
              "      border-color: transparent;\n",
              "      border-bottom-color: var(--fill-color);\n",
              "    }\n",
              "  }\n",
              "</style>\n",
              "\n",
              "  <script>\n",
              "    async function quickchart(key) {\n",
              "      const quickchartButtonEl =\n",
              "        document.querySelector('#' + key + ' button');\n",
              "      quickchartButtonEl.disabled = true;  // To prevent multiple clicks.\n",
              "      quickchartButtonEl.classList.add('colab-df-spinner');\n",
              "      try {\n",
              "        const charts = await google.colab.kernel.invokeFunction(\n",
              "            'suggestCharts', [key], {});\n",
              "      } catch (error) {\n",
              "        console.error('Error during call to suggestCharts:', error);\n",
              "      }\n",
              "      quickchartButtonEl.classList.remove('colab-df-spinner');\n",
              "      quickchartButtonEl.classList.add('colab-df-quickchart-complete');\n",
              "    }\n",
              "    (() => {\n",
              "      let quickchartButtonEl =\n",
              "        document.querySelector('#df-41ceba53-6b7f-4cbc-9299-b2204bc25fd5 button');\n",
              "      quickchartButtonEl.style.display =\n",
              "        google.colab.kernel.accessAllowed ? 'block' : 'none';\n",
              "    })();\n",
              "  </script>\n",
              "</div>\n",
              "    </div>\n",
              "  </div>\n"
            ]
          },
          "metadata": {},
          "execution_count": 16
        }
      ]
    },
    {
      "cell_type": "markdown",
      "source": [
        "# Usando apenas o train_test_split\n",
        "A primeira estratégia para analisar a eficiência de um modelo é separar os dados em **treino** e **teste**. Com isso, usaremos os dados de treino para treinar o modelo e os de teste, ou seja, dados novos que o modelo não conhecia antes, para avaliar a acurácia dele."
      ],
      "metadata": {
        "id": "5_ftdPPXrawA"
      }
    },
    {
      "metadata": {
        "id": "tm4PuuHVMuKS",
        "outputId": "ba04705b-815c-4a70-9026-4e2049b84791",
        "colab": {
          "base_uri": "https://localhost:8080/"
        }
      },
      "cell_type": "code",
      "source": [
        "import numpy as np\n",
        "from sklearn.model_selection import train_test_split\n",
        "from sklearn.metrics import accuracy_score\n",
        "\n",
        "features = car_sales[[\"preco\", \"idade_do_modelo\", \"km_por_ano\"]]\n",
        "target = car_sales[\"vendido\"]\n",
        "\n",
        "SEED = 158020\n",
        "np.random.seed(SEED)\n",
        "train_x, test_x, train_y, test_y = train_test_split(features, target, test_size = 0.25,\n",
        "                                                         stratify = target)\n",
        "\n",
        "print(\"Treinaremos com %d elementos e testaremos com %d elementos\" % (len(train_x), len(test_x)))"
      ],
      "execution_count": 2,
      "outputs": [
        {
          "output_type": "stream",
          "name": "stdout",
          "text": [
            "Treinaremos com 7500 elementos e testaremos com 2500 elementos\n"
          ]
        }
      ]
    },
    {
      "cell_type": "markdown",
      "source": [
        "Para avaliar o quão boa é a acurácia de um modelo, precisamos de alguma referência. Portanto usamos o DummyClassifier, um classificador \"burro\" (não usa as features para fazer a classificação) que nos dará uma *baseline* para a acurácia."
      ],
      "metadata": {
        "id": "3wBR7uyZwSee"
      }
    },
    {
      "metadata": {
        "id": "G2ZFWoPkGONL",
        "outputId": "8b32db08-f651-4594-9cf4-01d89f0ca9f2",
        "colab": {
          "base_uri": "https://localhost:8080/"
        }
      },
      "cell_type": "code",
      "source": [
        "from sklearn.dummy import DummyClassifier\n",
        "\n",
        "dummy_stratified = DummyClassifier()\n",
        "dummy_stratified.fit(train_x, train_y)\n",
        "accuracy = dummy_stratified.score(test_x, test_y) * 100\n",
        "\n",
        "print(\"A acurácia do dummy stratified foi %.2f%%\" % accuracy)"
      ],
      "execution_count": 3,
      "outputs": [
        {
          "output_type": "stream",
          "name": "stdout",
          "text": [
            "A acurácia do dummy stratified foi 58.00%\n"
          ]
        }
      ]
    },
    {
      "cell_type": "markdown",
      "source": [
        "Vamos, então, avaliar a acurácia de um modelo mais robusto, como o DecisionTreeClassifier"
      ],
      "metadata": {
        "id": "WbET_ppBw25_"
      }
    },
    {
      "metadata": {
        "id": "-1YsD-whJuGR",
        "outputId": "96041885-73f4-43a1-86ac-c78e24fd5a9c",
        "colab": {
          "base_uri": "https://localhost:8080/"
        }
      },
      "cell_type": "code",
      "source": [
        "from sklearn.tree import DecisionTreeClassifier\n",
        "\n",
        "model = DecisionTreeClassifier(max_depth=2)\n",
        "model.fit(train_x, train_y)\n",
        "predictions = model.predict(test_x)\n",
        "\n",
        "accuracy = accuracy_score(test_y, predictions) * 100\n",
        "\n",
        "print(\"A acurácia foi %.2f%%\" % accuracy)"
      ],
      "execution_count": 4,
      "outputs": [
        {
          "output_type": "stream",
          "name": "stdout",
          "text": [
            "A acurácia foi 71.92%\n"
          ]
        }
      ]
    },
    {
      "cell_type": "markdown",
      "source": [
        "Vemos que a acurácia foi consideravelmente maior (cerca de 24% maior). Mas o que isso realmente significa que um modelo é melhor que o outro? Veremos."
      ],
      "metadata": {
        "id": "vbDsGOToxXy9"
      }
    },
    {
      "cell_type": "markdown",
      "source": [
        "## Limitações do train_test_split\n",
        "Quando avaliamos a eficiência do modelo usando o conjunto de teste, a intenção é ver como o modelo se comporta com dados que ele ainda não viu. O problema é que essa acurácia não necessariamente vai se refletir quando o modelo estiver funcionando em produção, já que não sabemos quais dados serão enviados para ele.\n",
        "\n",
        "**E se tivermos dado uma sorte grande do modelo ter uma facilidade maior para classificar os dados utilizados no teste?**\n",
        "\n",
        "Isso é completamente possível. Portanto, não podemos confiar em uma métrica exclusivamente. É aí que entra a **validação cruzada**."
      ],
      "metadata": {
        "id": "svS81hZ6x5Mw"
      }
    },
    {
      "cell_type": "markdown",
      "source": [
        "# Validação cruzada\n",
        "\n"
      ],
      "metadata": {
        "id": "mpE-POs9zNm7"
      }
    },
    {
      "cell_type": "markdown",
      "source": [
        "Em vez de confiarmos exclusivamente no resultado de apenas um conjunto de teste, podemos fazer a divisão entre treino e teste diversas vezes. Então, usando a **média** dos resultados, teremos uma estimativa mais robusta da acurácia. Além disso, podemos também analisar o **desvio padrão** das acurácias, determinando, assim, um **intervalo de confiança** para a acurácia do modelo.\n",
        "\n",
        "Dessa forma, estaremos menos suscetível a um enviesamento dos dados de teste, pois faremos o teste com todos os dados."
      ],
      "metadata": {
        "id": "jWd_-MMgz9iX"
      }
    },
    {
      "cell_type": "code",
      "source": [
        "def print_results(results, nsplits):\n",
        "  mean = results['test_score'].mean()\n",
        "  standard_dev = results['test_score'].std()\n",
        "  print(\"Accuracy com cross validation de %d splits: entre [%.2f, %.2f]. \\n\\\n",
        "        Média = %.2f \\n\\\n",
        "        Desvio Padrão = %.2f\" \\\n",
        "        % (nsplits, (mean - 2 * standard_dev)*100, (mean + 2 * standard_dev) * 100, \\\n",
        "           mean*100, standard_dev*100))"
      ],
      "metadata": {
        "id": "mAjzIZ8qWYk5"
      },
      "execution_count": 5,
      "outputs": []
    },
    {
      "metadata": {
        "id": "ZNT26vFEeYmz",
        "outputId": "f6ac6ceb-c11f-43e8-babf-98de206f8ca0",
        "colab": {
          "base_uri": "https://localhost:8080/"
        }
      },
      "cell_type": "code",
      "source": [
        "from sklearn.model_selection import cross_validate\n",
        "\n",
        "model = DecisionTreeClassifier(max_depth=2)\n",
        "\n",
        "n_splits = 10\n",
        "results = cross_validate(model, features, target, cv = n_splits, return_train_score=False)\n",
        "\n",
        "print_results(results, n_splits)"
      ],
      "execution_count": 6,
      "outputs": [
        {
          "output_type": "stream",
          "name": "stdout",
          "text": [
            "Accuracy com cross validation de 10 splits: entre [74.24, 77.32]. \n",
            "        Média = 75.78 \n",
            "        Desvio Padrão = 0.77\n"
          ]
        }
      ]
    },
    {
      "cell_type": "markdown",
      "source": [
        "Agora temos mais dados para avaliar o modelo. Temos a média e o desvio padrão dos treinamentos, gerando um intervalo de confiança para a acurácia."
      ],
      "metadata": {
        "id": "oB_1o0Y-FQPu"
      }
    },
    {
      "metadata": {
        "id": "BfLXRZEngxI7"
      },
      "cell_type": "markdown",
      "source": [
        "# Importância da aleatoriedade no cross validate"
      ]
    },
    {
      "metadata": {
        "id": "cZLi4KV-jUQO"
      },
      "cell_type": "markdown",
      "source": [
        "## Simulando uma situação de azar\n",
        "\n",
        "Podemos nos deparar com uma situação os os dados estão numa ordem que prejudique o treinamento. Por exemplo, se treinarmos um modelo usando uma maioria de dados cuja classificação é '0', deixaremos o modelo enviesado por eles, o que prejudica na avaliação.\n",
        "\n",
        "Portando, torna-se necessário garantir a aleatoriedade na hora de dividir os dados para treino e teste, assim teremos a expectativa dos conjuntos terem uma distribuição mais uniforme dos dados."
      ]
    },
    {
      "metadata": {
        "id": "b52E4e1hjegN",
        "outputId": "2dae8378-a206-4f77-deb5-1ba0e0f0d9ad",
        "colab": {
          "base_uri": "https://localhost:8080/",
          "height": 206
        }
      },
      "cell_type": "code",
      "source": [
        "# ordenando os dados para que os carros não vendidos fiquem no início do dataframe\n",
        "\n",
        "car_sales_sorted = car_sales.sort_values(\"vendido\", ascending=True)\n",
        "features_sorted = car_sales_sorted[[\"preco\", \"idade_do_modelo\",\"km_por_ano\"]]\n",
        "target_sorted = car_sales_sorted[\"vendido\"]\n",
        "car_sales_sorted.head()"
      ],
      "execution_count": 7,
      "outputs": [
        {
          "output_type": "execute_result",
          "data": {
            "text/plain": [
              "         preco  vendido  idade_do_modelo   km_por_ano\n",
              "4999  74023.29        0               12  24812.80412\n",
              "5322  84843.49        0               13  23095.63834\n",
              "5319  83100.27        0               19  36240.72746\n",
              "5316  87932.13        0               16  32249.56426\n",
              "5315  77937.01        0               15  28414.50704"
            ],
            "text/html": [
              "\n",
              "  <div id=\"df-a386d054-ca95-4e9f-b4c2-8a552e1b6e44\" class=\"colab-df-container\">\n",
              "    <div>\n",
              "<style scoped>\n",
              "    .dataframe tbody tr th:only-of-type {\n",
              "        vertical-align: middle;\n",
              "    }\n",
              "\n",
              "    .dataframe tbody tr th {\n",
              "        vertical-align: top;\n",
              "    }\n",
              "\n",
              "    .dataframe thead th {\n",
              "        text-align: right;\n",
              "    }\n",
              "</style>\n",
              "<table border=\"1\" class=\"dataframe\">\n",
              "  <thead>\n",
              "    <tr style=\"text-align: right;\">\n",
              "      <th></th>\n",
              "      <th>preco</th>\n",
              "      <th>vendido</th>\n",
              "      <th>idade_do_modelo</th>\n",
              "      <th>km_por_ano</th>\n",
              "    </tr>\n",
              "  </thead>\n",
              "  <tbody>\n",
              "    <tr>\n",
              "      <th>4999</th>\n",
              "      <td>74023.29</td>\n",
              "      <td>0</td>\n",
              "      <td>12</td>\n",
              "      <td>24812.80412</td>\n",
              "    </tr>\n",
              "    <tr>\n",
              "      <th>5322</th>\n",
              "      <td>84843.49</td>\n",
              "      <td>0</td>\n",
              "      <td>13</td>\n",
              "      <td>23095.63834</td>\n",
              "    </tr>\n",
              "    <tr>\n",
              "      <th>5319</th>\n",
              "      <td>83100.27</td>\n",
              "      <td>0</td>\n",
              "      <td>19</td>\n",
              "      <td>36240.72746</td>\n",
              "    </tr>\n",
              "    <tr>\n",
              "      <th>5316</th>\n",
              "      <td>87932.13</td>\n",
              "      <td>0</td>\n",
              "      <td>16</td>\n",
              "      <td>32249.56426</td>\n",
              "    </tr>\n",
              "    <tr>\n",
              "      <th>5315</th>\n",
              "      <td>77937.01</td>\n",
              "      <td>0</td>\n",
              "      <td>15</td>\n",
              "      <td>28414.50704</td>\n",
              "    </tr>\n",
              "  </tbody>\n",
              "</table>\n",
              "</div>\n",
              "    <div class=\"colab-df-buttons\">\n",
              "\n",
              "  <div class=\"colab-df-container\">\n",
              "    <button class=\"colab-df-convert\" onclick=\"convertToInteractive('df-a386d054-ca95-4e9f-b4c2-8a552e1b6e44')\"\n",
              "            title=\"Convert this dataframe to an interactive table.\"\n",
              "            style=\"display:none;\">\n",
              "\n",
              "  <svg xmlns=\"http://www.w3.org/2000/svg\" height=\"24px\" viewBox=\"0 -960 960 960\">\n",
              "    <path d=\"M120-120v-720h720v720H120Zm60-500h600v-160H180v160Zm220 220h160v-160H400v160Zm0 220h160v-160H400v160ZM180-400h160v-160H180v160Zm440 0h160v-160H620v160ZM180-180h160v-160H180v160Zm440 0h160v-160H620v160Z\"/>\n",
              "  </svg>\n",
              "    </button>\n",
              "\n",
              "  <style>\n",
              "    .colab-df-container {\n",
              "      display:flex;\n",
              "      gap: 12px;\n",
              "    }\n",
              "\n",
              "    .colab-df-convert {\n",
              "      background-color: #E8F0FE;\n",
              "      border: none;\n",
              "      border-radius: 50%;\n",
              "      cursor: pointer;\n",
              "      display: none;\n",
              "      fill: #1967D2;\n",
              "      height: 32px;\n",
              "      padding: 0 0 0 0;\n",
              "      width: 32px;\n",
              "    }\n",
              "\n",
              "    .colab-df-convert:hover {\n",
              "      background-color: #E2EBFA;\n",
              "      box-shadow: 0px 1px 2px rgba(60, 64, 67, 0.3), 0px 1px 3px 1px rgba(60, 64, 67, 0.15);\n",
              "      fill: #174EA6;\n",
              "    }\n",
              "\n",
              "    .colab-df-buttons div {\n",
              "      margin-bottom: 4px;\n",
              "    }\n",
              "\n",
              "    [theme=dark] .colab-df-convert {\n",
              "      background-color: #3B4455;\n",
              "      fill: #D2E3FC;\n",
              "    }\n",
              "\n",
              "    [theme=dark] .colab-df-convert:hover {\n",
              "      background-color: #434B5C;\n",
              "      box-shadow: 0px 1px 3px 1px rgba(0, 0, 0, 0.15);\n",
              "      filter: drop-shadow(0px 1px 2px rgba(0, 0, 0, 0.3));\n",
              "      fill: #FFFFFF;\n",
              "    }\n",
              "  </style>\n",
              "\n",
              "    <script>\n",
              "      const buttonEl =\n",
              "        document.querySelector('#df-a386d054-ca95-4e9f-b4c2-8a552e1b6e44 button.colab-df-convert');\n",
              "      buttonEl.style.display =\n",
              "        google.colab.kernel.accessAllowed ? 'block' : 'none';\n",
              "\n",
              "      async function convertToInteractive(key) {\n",
              "        const element = document.querySelector('#df-a386d054-ca95-4e9f-b4c2-8a552e1b6e44');\n",
              "        const dataTable =\n",
              "          await google.colab.kernel.invokeFunction('convertToInteractive',\n",
              "                                                    [key], {});\n",
              "        if (!dataTable) return;\n",
              "\n",
              "        const docLinkHtml = 'Like what you see? Visit the ' +\n",
              "          '<a target=\"_blank\" href=https://colab.research.google.com/notebooks/data_table.ipynb>data table notebook</a>'\n",
              "          + ' to learn more about interactive tables.';\n",
              "        element.innerHTML = '';\n",
              "        dataTable['output_type'] = 'display_data';\n",
              "        await google.colab.output.renderOutput(dataTable, element);\n",
              "        const docLink = document.createElement('div');\n",
              "        docLink.innerHTML = docLinkHtml;\n",
              "        element.appendChild(docLink);\n",
              "      }\n",
              "    </script>\n",
              "  </div>\n",
              "\n",
              "\n",
              "<div id=\"df-3e6a96ce-8886-4d6e-8bbb-0ad3b4f3542b\">\n",
              "  <button class=\"colab-df-quickchart\" onclick=\"quickchart('df-3e6a96ce-8886-4d6e-8bbb-0ad3b4f3542b')\"\n",
              "            title=\"Suggest charts.\"\n",
              "            style=\"display:none;\">\n",
              "\n",
              "<svg xmlns=\"http://www.w3.org/2000/svg\" height=\"24px\"viewBox=\"0 0 24 24\"\n",
              "     width=\"24px\">\n",
              "    <g>\n",
              "        <path d=\"M19 3H5c-1.1 0-2 .9-2 2v14c0 1.1.9 2 2 2h14c1.1 0 2-.9 2-2V5c0-1.1-.9-2-2-2zM9 17H7v-7h2v7zm4 0h-2V7h2v10zm4 0h-2v-4h2v4z\"/>\n",
              "    </g>\n",
              "</svg>\n",
              "  </button>\n",
              "\n",
              "<style>\n",
              "  .colab-df-quickchart {\n",
              "      --bg-color: #E8F0FE;\n",
              "      --fill-color: #1967D2;\n",
              "      --hover-bg-color: #E2EBFA;\n",
              "      --hover-fill-color: #174EA6;\n",
              "      --disabled-fill-color: #AAA;\n",
              "      --disabled-bg-color: #DDD;\n",
              "  }\n",
              "\n",
              "  [theme=dark] .colab-df-quickchart {\n",
              "      --bg-color: #3B4455;\n",
              "      --fill-color: #D2E3FC;\n",
              "      --hover-bg-color: #434B5C;\n",
              "      --hover-fill-color: #FFFFFF;\n",
              "      --disabled-bg-color: #3B4455;\n",
              "      --disabled-fill-color: #666;\n",
              "  }\n",
              "\n",
              "  .colab-df-quickchart {\n",
              "    background-color: var(--bg-color);\n",
              "    border: none;\n",
              "    border-radius: 50%;\n",
              "    cursor: pointer;\n",
              "    display: none;\n",
              "    fill: var(--fill-color);\n",
              "    height: 32px;\n",
              "    padding: 0;\n",
              "    width: 32px;\n",
              "  }\n",
              "\n",
              "  .colab-df-quickchart:hover {\n",
              "    background-color: var(--hover-bg-color);\n",
              "    box-shadow: 0 1px 2px rgba(60, 64, 67, 0.3), 0 1px 3px 1px rgba(60, 64, 67, 0.15);\n",
              "    fill: var(--button-hover-fill-color);\n",
              "  }\n",
              "\n",
              "  .colab-df-quickchart-complete:disabled,\n",
              "  .colab-df-quickchart-complete:disabled:hover {\n",
              "    background-color: var(--disabled-bg-color);\n",
              "    fill: var(--disabled-fill-color);\n",
              "    box-shadow: none;\n",
              "  }\n",
              "\n",
              "  .colab-df-spinner {\n",
              "    border: 2px solid var(--fill-color);\n",
              "    border-color: transparent;\n",
              "    border-bottom-color: var(--fill-color);\n",
              "    animation:\n",
              "      spin 1s steps(1) infinite;\n",
              "  }\n",
              "\n",
              "  @keyframes spin {\n",
              "    0% {\n",
              "      border-color: transparent;\n",
              "      border-bottom-color: var(--fill-color);\n",
              "      border-left-color: var(--fill-color);\n",
              "    }\n",
              "    20% {\n",
              "      border-color: transparent;\n",
              "      border-left-color: var(--fill-color);\n",
              "      border-top-color: var(--fill-color);\n",
              "    }\n",
              "    30% {\n",
              "      border-color: transparent;\n",
              "      border-left-color: var(--fill-color);\n",
              "      border-top-color: var(--fill-color);\n",
              "      border-right-color: var(--fill-color);\n",
              "    }\n",
              "    40% {\n",
              "      border-color: transparent;\n",
              "      border-right-color: var(--fill-color);\n",
              "      border-top-color: var(--fill-color);\n",
              "    }\n",
              "    60% {\n",
              "      border-color: transparent;\n",
              "      border-right-color: var(--fill-color);\n",
              "    }\n",
              "    80% {\n",
              "      border-color: transparent;\n",
              "      border-right-color: var(--fill-color);\n",
              "      border-bottom-color: var(--fill-color);\n",
              "    }\n",
              "    90% {\n",
              "      border-color: transparent;\n",
              "      border-bottom-color: var(--fill-color);\n",
              "    }\n",
              "  }\n",
              "</style>\n",
              "\n",
              "  <script>\n",
              "    async function quickchart(key) {\n",
              "      const quickchartButtonEl =\n",
              "        document.querySelector('#' + key + ' button');\n",
              "      quickchartButtonEl.disabled = true;  // To prevent multiple clicks.\n",
              "      quickchartButtonEl.classList.add('colab-df-spinner');\n",
              "      try {\n",
              "        const charts = await google.colab.kernel.invokeFunction(\n",
              "            'suggestCharts', [key], {});\n",
              "      } catch (error) {\n",
              "        console.error('Error during call to suggestCharts:', error);\n",
              "      }\n",
              "      quickchartButtonEl.classList.remove('colab-df-spinner');\n",
              "      quickchartButtonEl.classList.add('colab-df-quickchart-complete');\n",
              "    }\n",
              "    (() => {\n",
              "      let quickchartButtonEl =\n",
              "        document.querySelector('#df-3e6a96ce-8886-4d6e-8bbb-0ad3b4f3542b button');\n",
              "      quickchartButtonEl.style.display =\n",
              "        google.colab.kernel.accessAllowed ? 'block' : 'none';\n",
              "    })();\n",
              "  </script>\n",
              "</div>\n",
              "    </div>\n",
              "  </div>\n"
            ]
          },
          "metadata": {},
          "execution_count": 7
        }
      ]
    },
    {
      "metadata": {
        "id": "lc748fo2jmk1",
        "outputId": "462256bb-ae77-4d7f-96e5-f9c18d044c6b",
        "colab": {
          "base_uri": "https://localhost:8080/"
        }
      },
      "cell_type": "code",
      "source": [
        "from sklearn.model_selection import KFold\n",
        "\n",
        "n_splits = 10\n",
        "cross_validator = KFold(n_splits = n_splits)\n",
        "model = DecisionTreeClassifier(max_depth=2)\n",
        "\n",
        "results = cross_validate(model, features_sorted, target_sorted, cv = cross_validator, return_train_score=False)\n",
        "\n",
        "print_results(results, n_splits)"
      ],
      "execution_count": 8,
      "outputs": [
        {
          "output_type": "stream",
          "name": "stdout",
          "text": [
            "Accuracy com cross validation de 10 splits: entre [34.29, 81.39]. \n",
            "        Média = 57.84 \n",
            "        Desvio Padrão = 11.77\n"
          ]
        }
      ]
    },
    {
      "cell_type": "markdown",
      "source": [
        "Podemos ver acima que o o resultado dos treinos variou muito. Justamente por conta do viés adicionado em alguns modelos pelos dados não distribuídos corretamente. A média da acurácia ficou baixa e o desvio padrão ficou enorme, mostrando a variação de acurácia em cada treino.\n",
        "\n",
        "Então, forçaremos a aleatoriedade na divisão dos dados usando o parâmentro `shuffle = True` no KFold."
      ],
      "metadata": {
        "id": "eMPNW48r_ZDn"
      }
    },
    {
      "metadata": {
        "id": "UHT5MCApj-9Q",
        "outputId": "f63054a3-9bd7-4285-ea23-2d95fbf155ec",
        "colab": {
          "base_uri": "https://localhost:8080/"
        }
      },
      "cell_type": "code",
      "source": [
        "from sklearn.model_selection import KFold\n",
        "\n",
        "n_splits = 10\n",
        "cross_validator = KFold(n_splits = n_splits, shuffle = True)\n",
        "model = DecisionTreeClassifier(max_depth=2)\n",
        "\n",
        "results = cross_validate(model, features_sorted, target_sorted, cv = cross_validator, return_train_score=False)\n",
        "\n",
        "print_results(results, n_splits)"
      ],
      "execution_count": 9,
      "outputs": [
        {
          "output_type": "stream",
          "name": "stdout",
          "text": [
            "Accuracy com cross validation de 10 splits: entre [72.91, 78.65]. \n",
            "        Média = 75.78 \n",
            "        Desvio Padrão = 1.43\n"
          ]
        }
      ]
    },
    {
      "cell_type": "markdown",
      "source": [
        "Podemos ver que o modelo teve um desempenho geral muito maior, com uma média mais alta e o desvio padrão mais baixo, mostrando que os modelos foram menos afetados pelo desbalanceamento dos dados no treinamento e teste."
      ],
      "metadata": {
        "id": "wzmBs-8i_6e0"
      }
    },
    {
      "metadata": {
        "id": "2DJ27BLakL55",
        "outputId": "a8500e4c-034f-4d7e-c89b-ca3d403be80b",
        "colab": {
          "base_uri": "https://localhost:8080/"
        }
      },
      "cell_type": "code",
      "source": [
        "from sklearn.model_selection import StratifiedKFold\n",
        "\n",
        "n_splits = 10\n",
        "cross_validator = StratifiedKFold(n_splits = n_splits, shuffle = True)\n",
        "model = DecisionTreeClassifier(max_depth=2)\n",
        "\n",
        "results = cross_validate(model, features_sorted, target_sorted, cv = cross_validator, return_train_score=False)\n",
        "\n",
        "print_results(results, n_splits)"
      ],
      "execution_count": 10,
      "outputs": [
        {
          "output_type": "stream",
          "name": "stdout",
          "text": [
            "Accuracy com cross validation de 10 splits: entre [73.90, 77.66]. \n",
            "        Média = 75.78 \n",
            "        Desvio Padrão = 0.94\n"
          ]
        }
      ]
    },
    {
      "cell_type": "markdown",
      "source": [
        "Acima, temos uma estratégia ainda mais inteligente. Usando o StratifiedKFold, garantimos que a proporção entre as classes se mantenha em cada divisão feita.\n",
        "\n",
        "O resultado disso é uma média muito próxima da anterior, mas com o desvio padrão menor, mostrando que a acurácia do modelo variou menos em cada treinamento e teste."
      ],
      "metadata": {
        "id": "yAyfKpwJA6tS"
      }
    },
    {
      "metadata": {
        "id": "GKExjDqvRlj2"
      },
      "cell_type": "markdown",
      "source": [
        "# Cross validation com StandardScaler"
      ]
    },
    {
      "cell_type": "markdown",
      "source": [
        "Até então, usamos um modelo de aprendizado que não é sensível à escala dos dados. Quando precisamos usar um, como o SVC, temos que ter um cuidado maior na hora de fazer a validação cruzada."
      ],
      "metadata": {
        "id": "oVzjhKi-CTxb"
      }
    },
    {
      "metadata": {
        "id": "uwksApnaRlRY",
        "colab": {
          "base_uri": "https://localhost:8080/"
        },
        "outputId": "2efba453-b6d8-4ff3-ede1-d8b6c3492010"
      },
      "cell_type": "code",
      "source": [
        "from sklearn.preprocessing import StandardScaler\n",
        "from sklearn.svm import SVC\n",
        "\n",
        "scaler = StandardScaler()\n",
        "scaler.fit(train_x)\n",
        "train_x_scaled = scaler.transform(train_x)\n",
        "test_x_scaled = scaler.transform(test_x)\n",
        "\n",
        "model = SVC()\n",
        "model.fit(train_x_scaled, train_y)\n",
        "previsoes = model.predict(test_x_scaled)\n",
        "\n",
        "accuracy = accuracy_score(test_y, previsoes) * 100\n",
        "\n",
        "print(\"A acurácia foi %.2f%%\" % accuracy)"
      ],
      "execution_count": 11,
      "outputs": [
        {
          "output_type": "stream",
          "name": "stdout",
          "text": [
            "A acurácia foi 74.40%\n"
          ]
        }
      ]
    },
    {
      "cell_type": "markdown",
      "source": [
        "Fazendo o teste do modelo usando a função train_test_split, temos que fazer a padronização dos dados após a divisão.\n",
        "\n",
        "*Uma curiosidade é que há um erro muito comum de ser cometido nesse passp, em que se padroniza os dados antes da divisão. O problema dessa abordagem é que os dados de teste acabam sendo utilizados para calcular a média e o desvio padrão dos dados. Mas a intenção é justamente que os dados de teste sejam dados não vistos pelo modelo, então não podem ser usados para a padronização.*\n",
        "\n"
      ],
      "metadata": {
        "id": "2GYbn0D5CrZ_"
      }
    },
    {
      "cell_type": "markdown",
      "source": [
        "Abaixo, faremos o jeito errado de padronizar os dados, ou seja, antes da divisão"
      ],
      "metadata": {
        "id": "XByZr7WsGevU"
      }
    },
    {
      "metadata": {
        "id": "A2gLpi1ASriq"
      },
      "cell_type": "code",
      "source": [
        "scaler = StandardScaler()\n",
        "scaler.fit(features_sorted)\n",
        "features_sorted_scaled = scaler.transform(features_sorted)"
      ],
      "execution_count": 12,
      "outputs": []
    },
    {
      "metadata": {
        "id": "0Qd9V493S2zq",
        "colab": {
          "base_uri": "https://localhost:8080/"
        },
        "outputId": "e62a8e8b-f923-43c4-d797-e1df86cef197"
      },
      "cell_type": "code",
      "source": [
        "n_splits = 10\n",
        "cross_validator = StratifiedKFold(n_splits = n_splits, shuffle = True)\n",
        "model = SVC()\n",
        "results = cross_validate(model, features_sorted_scaled, target_sorted, cv = cross_validator, return_train_score=False)\n",
        "\n",
        "print_results(results, n_splits)"
      ],
      "execution_count": 15,
      "outputs": [
        {
          "output_type": "stream",
          "name": "stdout",
          "text": [
            "Accuracy com cross validation de 10 splits: entre [74.57, 78.65]. \n",
            "        Média = 76.61 \n",
            "        Desvio Padrão = 1.02\n"
          ]
        }
      ]
    },
    {
      "cell_type": "markdown",
      "source": [
        "Mas como é o jeito certo? A divisão é feita internamente durante o cross validation, através do StratifiedKFold, então não é possível fazer isso explicitamente como no train_test_split.\n",
        "\n",
        "Nesse caso, precisamos do uso do Pipeline, que é um encapsulamento de várias funções definidas por nós. Aqui, criaremos um Pipeline com a padronização e, em seguida, o treinamento do modelo. Dessa forma, a execução será:\n",
        "\n",
        "1.   Dividir os dados\n",
        "2.   Aplicar a padronização no conjunto de treinamento\n",
        "3.   Treinar o modelo passado com o conjunto de treinamento\n",
        "4.   Aplicar a padronização no conjunto de teste\n",
        "5.    Testar o modelo com o conjunto de teste\n",
        "\n",
        "\n",
        "\n"
      ],
      "metadata": {
        "id": "SMids2sXINwI"
      }
    },
    {
      "metadata": {
        "id": "goijy0rSS7n-",
        "colab": {
          "base_uri": "https://localhost:8080/"
        },
        "outputId": "c1f1bec6-d4a2-4b89-971c-cf30f65b65c3"
      },
      "cell_type": "code",
      "source": [
        "from sklearn.pipeline import Pipeline\n",
        "\n",
        "scaler = StandardScaler()\n",
        "model = SVC()\n",
        "\n",
        "pipeline = Pipeline([('transformacao', scaler), ('estimador', model)])\n",
        "\n",
        "n_splits = 10\n",
        "cross_validator = StratifiedKFold(n_splits = n_splits, shuffle = True)\n",
        "results = cross_validate(pipeline, features_sorted, target_sorted, cv = cross_validator, return_train_score=False)\n",
        "\n",
        "print_results(results, n_splits)"
      ],
      "execution_count": 14,
      "outputs": [
        {
          "output_type": "stream",
          "name": "stdout",
          "text": [
            "Accuracy com cross validation de 10 splits: entre [74.71, 78.75]. \n",
            "        Média = 76.73 \n",
            "        Desvio Padrão = 1.01\n"
          ]
        }
      ]
    },
    {
      "cell_type": "markdown",
      "source": [
        "Apesar dessa mudança não se refletir significativamente nas métricas usadas, agora fizemos o certo e teremos mais garantia que o nosso modelo se comportará da mesma forma quando estiver em produção."
      ],
      "metadata": {
        "id": "9glA7bBqJ_el"
      }
    }
  ]
}